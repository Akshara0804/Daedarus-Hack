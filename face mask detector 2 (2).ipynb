{
 "cells": [
  {
   "cell_type": "code",
   "execution_count": 1,
   "id": "10188dda",
   "metadata": {},
   "outputs": [],
   "source": [
    "import numpy as np\n",
    "import cv2"
   ]
  },
  {
   "cell_type": "code",
   "execution_count": 2,
   "id": "daba0bc3",
   "metadata": {},
   "outputs": [],
   "source": [
    "import clx.xms\n",
    "import requests\n",
    "import matplotlib.pyplot as plt"
   ]
  },
  {
   "cell_type": "code",
   "execution_count": 3,
   "id": "d142b477",
   "metadata": {},
   "outputs": [],
   "source": [
    "import matplotlib.pyplot as plt\n",
    "from sklearn.ensemble import RandomForestClassifier\n",
    "from sklearn import datasets\n",
    "from sklearn.model_selection import learning_curve"
   ]
  },
  {
   "cell_type": "code",
   "execution_count": 4,
   "id": "1fb20e3e",
   "metadata": {},
   "outputs": [],
   "source": [
    "proper_mask=np.load('proper_mask.npy')\n",
    "without_mask=np.load('without_mask.npy')\n",
    "improper_mask=np.load('improper_mask.npy')"
   ]
  },
  {
   "cell_type": "code",
   "execution_count": 5,
   "id": "028875dc",
   "metadata": {},
   "outputs": [
    {
     "data": {
      "text/plain": [
       "(200, 50, 50, 3)"
      ]
     },
     "execution_count": 5,
     "metadata": {},
     "output_type": "execute_result"
    }
   ],
   "source": [
    "proper_mask.shape"
   ]
  },
  {
   "cell_type": "code",
   "execution_count": 6,
   "id": "4d632b1e",
   "metadata": {},
   "outputs": [
    {
     "data": {
      "text/plain": [
       "(200, 50, 50, 3)"
      ]
     },
     "execution_count": 6,
     "metadata": {},
     "output_type": "execute_result"
    }
   ],
   "source": [
    "without_mask.shape"
   ]
  },
  {
   "cell_type": "code",
   "execution_count": 7,
   "id": "96440778",
   "metadata": {},
   "outputs": [
    {
     "data": {
      "text/plain": [
       "(200, 50, 50, 3)"
      ]
     },
     "execution_count": 7,
     "metadata": {},
     "output_type": "execute_result"
    }
   ],
   "source": [
    "improper_mask.shape"
   ]
  },
  {
   "cell_type": "code",
   "execution_count": 8,
   "id": "91c0ae79",
   "metadata": {},
   "outputs": [],
   "source": [
    "proper_mask=proper_mask.reshape(200, 50*50*3)\n",
    "without_mask=without_mask.reshape(200, 50*50*3)\n",
    "improper_mask=improper_mask.reshape(200, 50*50*3)"
   ]
  },
  {
   "cell_type": "code",
   "execution_count": 9,
   "id": "d68684f6",
   "metadata": {},
   "outputs": [
    {
     "data": {
      "text/plain": [
       "(200, 7500)"
      ]
     },
     "execution_count": 9,
     "metadata": {},
     "output_type": "execute_result"
    }
   ],
   "source": [
    "proper_mask.shape"
   ]
  },
  {
   "cell_type": "code",
   "execution_count": 10,
   "id": "0baedbd8",
   "metadata": {},
   "outputs": [
    {
     "data": {
      "text/plain": [
       "(200, 7500)"
      ]
     },
     "execution_count": 10,
     "metadata": {},
     "output_type": "execute_result"
    }
   ],
   "source": [
    "without_mask.shape"
   ]
  },
  {
   "cell_type": "code",
   "execution_count": 11,
   "id": "d7cd8e11",
   "metadata": {},
   "outputs": [
    {
     "data": {
      "text/plain": [
       "(200, 7500)"
      ]
     },
     "execution_count": 11,
     "metadata": {},
     "output_type": "execute_result"
    }
   ],
   "source": [
    "improper_mask.shape"
   ]
  },
  {
   "cell_type": "code",
   "execution_count": 12,
   "id": "bcdc2eaf",
   "metadata": {},
   "outputs": [],
   "source": [
    "X= np.r_[proper_mask, without_mask, improper_mask]"
   ]
  },
  {
   "cell_type": "code",
   "execution_count": 13,
   "id": "ce212bb5",
   "metadata": {},
   "outputs": [
    {
     "data": {
      "text/plain": [
       "(600, 7500)"
      ]
     },
     "execution_count": 13,
     "metadata": {},
     "output_type": "execute_result"
    }
   ],
   "source": [
    "X.shape"
   ]
  },
  {
   "cell_type": "code",
   "execution_count": 14,
   "id": "a665094d",
   "metadata": {},
   "outputs": [],
   "source": [
    "labels= np.zeros(X.shape[0])"
   ]
  },
  {
   "cell_type": "code",
   "execution_count": 15,
   "id": "01f4d4ee",
   "metadata": {},
   "outputs": [],
   "source": [
    "labels[200:400]= 1.0"
   ]
  },
  {
   "cell_type": "code",
   "execution_count": 16,
   "id": "8947b5ab",
   "metadata": {},
   "outputs": [],
   "source": [
    "labels[400:]= 2.0"
   ]
  },
  {
   "cell_type": "code",
   "execution_count": 17,
   "id": "1d6479b2",
   "metadata": {},
   "outputs": [],
   "source": [
    "names= {0 : 'proper Mask', 1: 'no Mask', 2: 'improper mask'}"
   ]
  },
  {
   "cell_type": "code",
   "execution_count": 18,
   "id": "4aa4ddcd",
   "metadata": {},
   "outputs": [],
   "source": [
    "from sklearn.svm import SVC\n",
    "from sklearn.metrics import accuracy_score"
   ]
  },
  {
   "cell_type": "code",
   "execution_count": 19,
   "id": "1fe867dc",
   "metadata": {},
   "outputs": [],
   "source": [
    "from sklearn.model_selection import train_test_split"
   ]
  },
  {
   "cell_type": "code",
   "execution_count": 20,
   "id": "b4e44a6f",
   "metadata": {},
   "outputs": [],
   "source": [
    "x_train, x_test, y_train, y_test = train_test_split(X,labels, test_size=0.25)"
   ]
  },
  {
   "cell_type": "code",
   "execution_count": 21,
   "id": "f1177a13",
   "metadata": {},
   "outputs": [
    {
     "data": {
      "text/plain": [
       "(450, 7500)"
      ]
     },
     "execution_count": 21,
     "metadata": {},
     "output_type": "execute_result"
    }
   ],
   "source": [
    "x_train.shape"
   ]
  },
  {
   "cell_type": "code",
   "execution_count": 22,
   "id": "5a1092ce",
   "metadata": {},
   "outputs": [],
   "source": [
    "from sklearn.decomposition import PCA"
   ]
  },
  {
   "cell_type": "code",
   "execution_count": 23,
   "id": "10f0bd1b",
   "metadata": {},
   "outputs": [],
   "source": [
    "pca = PCA(n_components=3)\n",
    "x_train=pca.fit_transform(x_train)"
   ]
  },
  {
   "cell_type": "code",
   "execution_count": 24,
   "id": "d168ddc3",
   "metadata": {},
   "outputs": [
    {
     "data": {
      "text/plain": [
       "array([-2057.75821674,  -962.83976791,   909.75084811])"
      ]
     },
     "execution_count": 24,
     "metadata": {},
     "output_type": "execute_result"
    }
   ],
   "source": [
    "x_train[0]"
   ]
  },
  {
   "cell_type": "code",
   "execution_count": 25,
   "id": "109d23c0",
   "metadata": {},
   "outputs": [
    {
     "data": {
      "text/plain": [
       "(450, 3)"
      ]
     },
     "execution_count": 25,
     "metadata": {},
     "output_type": "execute_result"
    }
   ],
   "source": [
    "x_train.shape"
   ]
  },
  {
   "cell_type": "code",
   "execution_count": 26,
   "id": "fab811aa",
   "metadata": {},
   "outputs": [
    {
     "data": {
      "text/plain": [
       "SVC()"
      ]
     },
     "execution_count": 26,
     "metadata": {},
     "output_type": "execute_result"
    }
   ],
   "source": [
    "svm=SVC()\n",
    "svm.fit(x_train, y_train)"
   ]
  },
  {
   "cell_type": "code",
   "execution_count": 27,
   "id": "b1b16635",
   "metadata": {},
   "outputs": [],
   "source": [
    "x_test=pca.transform(x_test)\n",
    "y_pred=svm.predict(x_test)"
   ]
  },
  {
   "cell_type": "code",
   "execution_count": 28,
   "id": "a31451c7",
   "metadata": {},
   "outputs": [
    {
     "data": {
      "text/plain": [
       "0.9866666666666667"
      ]
     },
     "execution_count": 28,
     "metadata": {},
     "output_type": "execute_result"
    }
   ],
   "source": [
    "accuracy_score(y_test, y_pred)"
   ]
  },
  {
   "cell_type": "code",
   "execution_count": null,
   "id": "5a830d2f",
   "metadata": {},
   "outputs": [
    {
     "name": "stdout",
     "output_type": "stream",
     "text": [
      "proper Mask\n",
      "proper Mask\n",
      "improper mask\n",
      "proper Mask\n",
      "proper Mask\n",
      "proper Mask\n",
      "proper Mask\n",
      "improper mask\n",
      "proper Mask\n",
      "proper Mask\n",
      "proper Mask\n",
      "proper Mask\n",
      "proper Mask\n",
      "improper mask\n",
      "improper mask\n",
      "proper Mask\n",
      "proper Mask\n",
      "proper Mask\n",
      "proper Mask\n",
      "proper Mask\n",
      "proper Mask\n",
      "improper mask\n",
      "improper mask\n",
      "improper mask\n",
      "improper mask\n",
      "improper mask\n",
      "improper mask\n",
      "improper mask\n",
      "improper mask\n",
      "improper mask\n",
      "improper mask\n",
      "improper mask\n",
      "improper mask\n",
      "improper mask\n",
      "improper mask\n",
      "no Mask\n",
      "no Mask\n",
      "no Mask\n",
      "no Mask\n",
      "no Mask\n",
      "no Mask\n",
      "no Mask\n",
      "no Mask\n",
      "no Mask\n",
      "no Mask\n",
      "no Mask\n",
      "no Mask\n",
      "proper Mask\n",
      "no Mask\n",
      "proper Mask\n",
      "proper Mask\n",
      "no Mask\n",
      "no Mask\n",
      "no Mask\n",
      "no Mask\n",
      "no Mask\n",
      "proper Mask\n",
      "proper Mask\n",
      "proper Mask\n",
      "proper Mask\n",
      "proper Mask\n",
      "proper Mask\n",
      "proper Mask\n",
      "proper Mask\n",
      "proper Mask\n",
      "proper Mask\n",
      "proper Mask\n",
      "proper Mask\n",
      "proper Mask\n",
      "proper Mask\n",
      "proper Mask\n",
      "proper Mask\n",
      "proper Mask\n",
      "proper Mask\n",
      "proper Mask\n",
      "improper mask\n",
      "proper Mask\n",
      "proper Mask\n",
      "proper Mask\n",
      "no Mask\n",
      "no Mask\n",
      "no Mask\n",
      "no Mask\n",
      "no Mask\n",
      "no Mask\n",
      "proper Mask\n",
      "no Mask\n",
      "proper Mask\n",
      "proper Mask\n",
      "proper Mask\n",
      "proper Mask\n",
      "proper Mask\n",
      "proper Mask\n",
      "proper Mask\n",
      "proper Mask\n",
      "proper Mask\n"
     ]
    }
   ],
   "source": [
    "haar_data= cv2.CascadeClassifier(r'C:\\Users\\aksha\\OneDrive\\Desktop\\face mask detection\\haarcascade_frontalface_default.xml')\n",
    "capture = cv2.VideoCapture(0)\n",
    "data=[]\n",
    "counter=0\n",
    "font= cv2.FONT_HERSHEY_COMPLEX\n",
    "client = clx.xms.Client(service_plan_id='ff90c71a89d247f29ed6d673994e1d63',token='7d1fea48c6974453a319819895f4b6db')\n",
    "create = clx.xms.api.MtBatchTextSmsCreate()\n",
    "create.sender = '447537455170'\n",
    "create.recipients = {'918072984663'}\n",
    "while True:\n",
    "    flag, img= capture.read()\n",
    "    if flag:\n",
    "        faces=haar_data.detectMultiScale(img)\n",
    "    for x,y,w,h in faces:\n",
    "        if(x,y,w,h.any() and counter ==0):\n",
    "                try:\n",
    "                   batch = client.create_batch(create)\n",
    "                except (requests.exceptions.RequestException, clx.xms.exceptions.ApiException) as ex:\n",
    "                    print('Failed to communicate with XMS: %s' % str(ex))\n",
    "        cv2.rectangle(img,(x,y),(x+w,y+h),(255,0,255),4)\n",
    "        face= img[y:y+h, x:x+w, :]\n",
    "        face=cv2.resize(face, (50,50))\n",
    "        face=face.reshape(1,-1)\n",
    "        face=pca.transform(face)\n",
    "        pred=svm.predict(face)\n",
    "        n=names[int(pred)]\n",
    "        cv2.putText(img,n,(x,y),font,1,(0,255,0),2)\n",
    "        print(n)\n",
    "if n==1:\n",
    "    create.body('no mask')\n",
    "if n==2:\n",
    "    create.body('improper mask')\n",
    "        \n",
    "    cv2.imshow('result',img)\n",
    "    if cv2.waitKey(2)==27:\n",
    "        break\n",
    "capture.release()\n",
    "cv2.destroyAllWindows()"
   ]
  },
  {
   "cell_type": "code",
   "execution_count": null,
   "id": "eb0d5ceb",
   "metadata": {},
   "outputs": [],
   "source": []
  },
  {
   "cell_type": "code",
   "execution_count": null,
   "id": "82c5820b",
   "metadata": {},
   "outputs": [],
   "source": []
  },
  {
   "cell_type": "code",
   "execution_count": null,
   "id": "206c8470",
   "metadata": {},
   "outputs": [],
   "source": []
  },
  {
   "cell_type": "code",
   "execution_count": null,
   "id": "6c3781c8",
   "metadata": {},
   "outputs": [],
   "source": []
  },
  {
   "cell_type": "code",
   "execution_count": null,
   "id": "4d731b80",
   "metadata": {},
   "outputs": [],
   "source": []
  },
  {
   "cell_type": "code",
   "execution_count": null,
   "id": "16e44da1",
   "metadata": {},
   "outputs": [],
   "source": []
  }
 ],
 "metadata": {
  "kernelspec": {
   "display_name": "Python 3",
   "language": "python",
   "name": "python3"
  },
  "language_info": {
   "codemirror_mode": {
    "name": "ipython",
    "version": 3
   },
   "file_extension": ".py",
   "mimetype": "text/x-python",
   "name": "python",
   "nbconvert_exporter": "python",
   "pygments_lexer": "ipython3",
   "version": "3.8.8"
  }
 },
 "nbformat": 4,
 "nbformat_minor": 5
}
